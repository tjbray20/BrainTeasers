{
 "cells": [
  {
   "cell_type": "code",
   "execution_count": 63,
   "metadata": {},
   "outputs": [],
   "source": [
    "import numpy as np\n",
    "import random"
   ]
  },
  {
   "cell_type": "code",
   "execution_count": 64,
   "metadata": {},
   "outputs": [],
   "source": [
    "n = 100"
   ]
  },
  {
   "cell_type": "code",
   "execution_count": 69,
   "metadata": {},
   "outputs": [],
   "source": [
    "d = random.sample(range(1,n+1),2)"
   ]
  },
  {
   "cell_type": "code",
   "execution_count": 66,
   "metadata": {},
   "outputs": [],
   "source": [
    "def find_missing_list(n=n, d1 = d[0], d2 = d[1]):\n",
    "\n",
    "    a = list(range(1,n+1))\n",
    "    b = list(a)\n",
    "    b.remove(d1)\n",
    "    b.remove(d2)\n",
    "    \n",
    "    missing = list(set(a) -set(b))\n",
    "    \n",
    "    return int(max(missing)), int(min(missing))"
   ]
  },
  {
   "cell_type": "code",
   "execution_count": 67,
   "metadata": {},
   "outputs": [],
   "source": [
    "def find_missing_math(n=n, d1 = d[0], d2 = d[1]):\n",
    "    \n",
    "    a = list(range(1,n+1))\n",
    "    b = list(a)\n",
    "    b.remove(d1)\n",
    "    b.remove(d2)\n",
    "    \n",
    "    a_sum = (n*(n+1))/2\n",
    "    a_sum_sq = (n*(n+1)*(2*n+1))/6\n",
    "    \n",
    "    b_sum = sum(b)\n",
    "    b_sum_sq = sum([i**2 for i in b])\n",
    "    \n",
    "    diff = a_sum - b_sum\n",
    "    diff_sq = a_sum_sq - b_sum_sq\n",
    "    \n",
    "    coeff = [-1, diff, (diff**2 - diff_sq)/2]\n",
    "    \n",
    "    missing = np.roots(coeff)\n",
    "    \n",
    "    return int(max(missing)), int(min(missing))"
   ]
  },
  {
   "cell_type": "code",
   "execution_count": 71,
   "metadata": {},
   "outputs": [
    {
     "name": "stdout",
     "output_type": "stream",
     "text": [
      "[83, 62]\n",
      "[27, 1]\n",
      "[86, 1]\n",
      "[31, 78]\n",
      "[100, 45]\n",
      "[64, 34]\n",
      "[21, 54]\n",
      "[16, 83]\n",
      "[16, 37]\n",
      "[79, 87]\n",
      "[28, 93]\n",
      "[15, 14]\n",
      "[95, 91]\n",
      "[49, 82]\n",
      "[11, 39]\n",
      "[66, 61]\n",
      "[74, 44]\n",
      "[72, 45]\n",
      "[45, 75]\n",
      "[15, 32]\n",
      "[57, 60]\n",
      "[32, 13]\n",
      "[29, 78]\n",
      "[33, 57]\n",
      "[89, 42]\n",
      "[1, 64]\n",
      "[64, 92]\n",
      "[46, 77]\n",
      "[3, 4]\n",
      "[48, 64]\n",
      "[16, 99]\n",
      "[70, 100]\n",
      "[92, 61]\n",
      "[3, 16]\n",
      "[83, 70]\n",
      "[57, 48]\n",
      "[38, 63]\n",
      "[58, 13]\n",
      "[20, 54]\n",
      "[90, 80]\n",
      "[10, 25]\n",
      "[49, 87]\n",
      "[70, 32]\n",
      "[30, 94]\n",
      "[27, 64]\n",
      "[73, 74]\n",
      "[8, 27]\n",
      "[91, 68]\n",
      "[45, 47]\n",
      "[70, 66]\n",
      "[30, 7]\n",
      "[99, 20]\n",
      "[26, 92]\n",
      "[53, 66]\n",
      "[71, 63]\n",
      "[47, 14]\n",
      "[59, 95]\n",
      "[3, 92]\n",
      "[13, 81]\n",
      "[42, 77]\n",
      "[23, 65]\n",
      "[42, 37]\n",
      "[9, 55]\n",
      "[38, 77]\n",
      "[4, 76]\n",
      "[25, 45]\n",
      "[30, 81]\n",
      "[31, 4]\n",
      "[29, 49]\n",
      "[100, 33]\n",
      "[90, 4]\n",
      "[21, 72]\n",
      "[81, 86]\n",
      "[51, 25]\n",
      "[35, 17]\n",
      "[2, 56]\n",
      "[36, 55]\n",
      "[30, 8]\n",
      "[23, 34]\n",
      "[47, 12]\n",
      "[49, 64]\n",
      "[3, 83]\n",
      "[84, 79]\n",
      "[47, 58]\n",
      "[70, 3]\n",
      "[5, 3]\n",
      "[79, 76]\n",
      "[57, 65]\n",
      "[79, 13]\n",
      "[58, 60]\n",
      "[30, 87]\n",
      "[3, 39]\n",
      "[47, 66]\n",
      "[89, 84]\n",
      "[26, 12]\n",
      "[30, 100]\n",
      "[88, 65]\n",
      "[7, 97]\n",
      "[23, 22]\n",
      "[49, 18]\n"
     ]
    }
   ],
   "source": [
    "for i in range(100):\n",
    "    d = random.sample(range(1,n+1),2)\n",
    "    e,f = find_missing_list(n = 100, d1 = d[0], d2 = d[1])\n",
    "    g,h = find_missing_math(n = 100, d1 = d[0], d2 = d[1])\n",
    "    if e+f == g+h:\n",
    "        print(d)\n",
    "    else:\n",
    "        print(f'{d}! = {e,f} != {g,h}')"
   ]
  },
  {
   "cell_type": "code",
   "execution_count": null,
   "metadata": {},
   "outputs": [],
   "source": []
  },
  {
   "cell_type": "code",
   "execution_count": null,
   "metadata": {},
   "outputs": [],
   "source": []
  }
 ],
 "metadata": {
  "kernelspec": {
   "display_name": "Python 3",
   "language": "python",
   "name": "python3"
  },
  "language_info": {
   "codemirror_mode": {
    "name": "ipython",
    "version": 3
   },
   "file_extension": ".py",
   "mimetype": "text/x-python",
   "name": "python",
   "nbconvert_exporter": "python",
   "pygments_lexer": "ipython3",
   "version": "3.8.5"
  }
 },
 "nbformat": 4,
 "nbformat_minor": 4
}
