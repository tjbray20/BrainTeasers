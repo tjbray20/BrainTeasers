{
 "cells": [
  {
   "cell_type": "code",
   "execution_count": 122,
   "metadata": {},
   "outputs": [],
   "source": [
    "import numpy as np"
   ]
  },
  {
   "cell_type": "code",
   "execution_count": 123,
   "metadata": {},
   "outputs": [
    {
     "name": "stdout",
     "output_type": "stream",
     "text": [
      "53 9\n"
     ]
    }
   ],
   "source": [
    "n = 100\n",
    "\n",
    "x = np.random.randint(1,n+1)\n",
    "y = np.random.randint(1,n+1)\n",
    "\n",
    "print(x,y)"
   ]
  },
  {
   "cell_type": "code",
   "execution_count": 124,
   "metadata": {},
   "outputs": [],
   "source": [
    "def find_missing_vals(n,x,y):\n",
    "    \n",
    "    a = list(range(1,n+1))\n",
    "    \n",
    "    a.remove(x)\n",
    "    a.remove(y)\n",
    "    \n",
    "    sum_all = int((n*(n+1))/2)\n",
    "    sum_all_squares = int((n*(n+1)*(2*n+1))/6)\n",
    "    \n",
    "    summation = 0\n",
    "    sum_squares = 0\n",
    "    for i in a:\n",
    "        summation += i\n",
    "        sum_squares += i**2\n",
    "    \n",
    "    diff = sum_all - summation\n",
    "    diff_sq = sum_all_squares - sum_squares\n",
    "    \n",
    "    coef = [2,-2*diff,(diff**2-diff_sq)]\n",
    "    \n",
    "    np.roots(coef)\n",
    "    c = int(np.roots(coef)[0])\n",
    "    d = int(np.roots(coef)[1])\n",
    "    \n",
    "    return c,d"
   ]
  },
  {
   "cell_type": "code",
   "execution_count": 125,
   "metadata": {},
   "outputs": [
    {
     "data": {
      "text/plain": [
       "(53, 9)"
      ]
     },
     "execution_count": 125,
     "metadata": {},
     "output_type": "execute_result"
    }
   ],
   "source": [
    "find_missing_vals(100,x,y)"
   ]
  },
  {
   "cell_type": "code",
   "execution_count": 126,
   "metadata": {},
   "outputs": [],
   "source": [
    "def find_missing_vals_list(n,x,y):\n",
    "    \n",
    "    a = list(range(1,n+1))\n",
    "    b = list(a)\n",
    "    \n",
    "    b.remove(x)\n",
    "    b.remove(y)\n",
    "    \n",
    "    missing = []\n",
    "    \n",
    "    for i in a:\n",
    "        if i not in b:\n",
    "            missing.append(i)\n",
    "    \n",
    "    return missing[0], missing[1]\n",
    "    "
   ]
  },
  {
   "cell_type": "code",
   "execution_count": 127,
   "metadata": {},
   "outputs": [
    {
     "data": {
      "text/plain": [
       "(9, 53)"
      ]
     },
     "execution_count": 127,
     "metadata": {},
     "output_type": "execute_result"
    }
   ],
   "source": [
    "find_missing_vals_list(100,x,y)"
   ]
  }
 ],
 "metadata": {
  "kernelspec": {
   "display_name": "Python 3",
   "language": "python",
   "name": "python3"
  },
  "language_info": {
   "codemirror_mode": {
    "name": "ipython",
    "version": 3
   },
   "file_extension": ".py",
   "mimetype": "text/x-python",
   "name": "python",
   "nbconvert_exporter": "python",
   "pygments_lexer": "ipython3",
   "version": "3.8.5"
  }
 },
 "nbformat": 4,
 "nbformat_minor": 4
}
