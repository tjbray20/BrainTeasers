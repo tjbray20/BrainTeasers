{
 "cells": [
  {
   "cell_type": "code",
   "execution_count": 43,
   "metadata": {},
   "outputs": [],
   "source": [
    "import numpy as np"
   ]
  },
  {
   "cell_type": "code",
   "execution_count": 66,
   "metadata": {},
   "outputs": [],
   "source": [
    "sims = 10000\n",
    "coins = 50"
   ]
  },
  {
   "cell_type": "code",
   "execution_count": 74,
   "metadata": {},
   "outputs": [],
   "source": [
    "winner = []\n",
    "\n",
    "for i in range(0,sims):\n",
    "    \n",
    "    person_a = sum(np.random.randint(0,2,coins + 1))\n",
    "    person_b = sum(np.random.randint(0,2,coins))\n",
    "    \n",
    "    if person_a > person_b:\n",
    "        winner.append('a')\n",
    "    else:\n",
    "        winner.append('b')"
   ]
  },
  {
   "cell_type": "code",
   "execution_count": 75,
   "metadata": {},
   "outputs": [],
   "source": [
    "values, counts = np.unique(winner, return_counts = True)"
   ]
  },
  {
   "cell_type": "code",
   "execution_count": 76,
   "metadata": {},
   "outputs": [
    {
     "name": "stdout",
     "output_type": "stream",
     "text": [
      "a 0.4957\n",
      "b 0.5043\n"
     ]
    }
   ],
   "source": [
    "print(values[0], counts[0]/sims)\n",
    "print(values[1], counts[1]/sims)"
   ]
  },
  {
   "cell_type": "code",
   "execution_count": null,
   "metadata": {},
   "outputs": [],
   "source": []
  }
 ],
 "metadata": {
  "kernelspec": {
   "display_name": "Python 3",
   "language": "python",
   "name": "python3"
  },
  "language_info": {
   "codemirror_mode": {
    "name": "ipython",
    "version": 3
   },
   "file_extension": ".py",
   "mimetype": "text/x-python",
   "name": "python",
   "nbconvert_exporter": "python",
   "pygments_lexer": "ipython3",
   "version": "3.8.5"
  }
 },
 "nbformat": 4,
 "nbformat_minor": 4
}
