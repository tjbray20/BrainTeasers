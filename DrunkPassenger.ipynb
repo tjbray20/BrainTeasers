{
 "cells": [
  {
   "cell_type": "code",
   "execution_count": 1,
   "metadata": {},
   "outputs": [],
   "source": [
    "import numpy as np\n",
    "import random"
   ]
  },
  {
   "cell_type": "code",
   "execution_count": 37,
   "metadata": {},
   "outputs": [],
   "source": [
    "def plane_seating():\n",
    "    \n",
    "    passengers = list(range(1,101))\n",
    "    seats = []\n",
    "\n",
    "    drunk = np.random.randint(1,101)\n",
    "    seats.append(drunk)\n",
    "\n",
    "    for i in passengers[1:]:\n",
    "        if i not in seats:\n",
    "            seats.append(i)\n",
    "        else:\n",
    "            number = random.choice(list(set(range(1,101)) - set(seats)))\n",
    "            seats.append(number)\n",
    "            \n",
    "    return seats"
   ]
  },
  {
   "cell_type": "code",
   "execution_count": 67,
   "metadata": {},
   "outputs": [],
   "source": [
    "sims = 10000"
   ]
  },
  {
   "cell_type": "code",
   "execution_count": 68,
   "metadata": {},
   "outputs": [],
   "source": [
    "last_position = []\n",
    "for i in range(sims):\n",
    "    x = plane_seating()\n",
    "    last_position.append(x[-1])"
   ]
  },
  {
   "cell_type": "code",
   "execution_count": 69,
   "metadata": {},
   "outputs": [],
   "source": [
    "positions, counts = np.unique(last_position, return_counts = True)"
   ]
  },
  {
   "cell_type": "code",
   "execution_count": 70,
   "metadata": {},
   "outputs": [],
   "source": [
    "results = dict(zip(positions,counts/sims))"
   ]
  },
  {
   "cell_type": "code",
   "execution_count": 71,
   "metadata": {},
   "outputs": [
    {
     "data": {
      "text/plain": [
       "{1: 0.4967, 100: 0.5033}"
      ]
     },
     "execution_count": 71,
     "metadata": {},
     "output_type": "execute_result"
    }
   ],
   "source": [
    "results"
   ]
  }
 ],
 "metadata": {
  "kernelspec": {
   "display_name": "Python 3",
   "language": "python",
   "name": "python3"
  },
  "language_info": {
   "codemirror_mode": {
    "name": "ipython",
    "version": 3
   },
   "file_extension": ".py",
   "mimetype": "text/x-python",
   "name": "python",
   "nbconvert_exporter": "python",
   "pygments_lexer": "ipython3",
   "version": "3.8.5"
  }
 },
 "nbformat": 4,
 "nbformat_minor": 4
}
